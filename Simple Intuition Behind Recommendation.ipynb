{
 "cells": [
  {
   "cell_type": "markdown",
   "id": "41226518",
   "metadata": {},
   "source": [
    "### Lift (non-machine learning techniques)\n",
    "\n",
    "$$Lift = \\frac{p(A,B)}{p(A)p(B)} = \\frac{p(A|B)}{p(A)} = \\frac{p(B|A)}{p(A)}$$\n",
    "\n",
    "* Symmetric\n",
    "* You may recognize notion of indeopendence\n",
    "* If A&B are indepedent, then p(A|B) = p(A)\n",
    "* If buying B increases the probability you buy A, then Lift > 1"
   ]
  },
  {
   "cell_type": "markdown",
   "id": "6be45ef4",
   "metadata": {},
   "source": [
    "### Hacker News Formula\n",
    "\n",
    "$$ score = \\frac{popularity}{age} \\times penalty = \\frac{(ups-downs-1)^0.8}{(age+2)^{gravity}} \\times penalty$$\n",
    "\n",
    "* gravity = 1.8 \n",
    "* penalty = multiplier to implement \"business rules\" (e.g. penalize self-posts, \"controversial\" posts, + many more you'll see later...)\n",
    "* Note that denominator outgrows numerator, meaning that age always overtakes popularity.\n",
    "* The numerator term implies growing sublinearly, meaning that 0 -> 100 means more than 1000 -> 1100."
   ]
  },
  {
   "cell_type": "markdown",
   "id": "75fc5981",
   "metadata": {},
   "source": [
    "### Reddit Formula\n",
    "\n",
    "$$ score = sign(ups - downs) \\times \\log{max(1, |ups-downs|)} + \\frac{age}{45000}$$\n",
    "\n",
    "* Age and popularity are additive instead of multiplicative.\n",
    "* Log of net votes -> diminishing returns (sublinear)\n",
    "* Age still grows faster than popularity"
   ]
  },
  {
   "cell_type": "markdown",
   "id": "639cb31d",
   "metadata": {},
   "source": [
    "### Rating\n",
    "\n",
    "**Confidence Intervals**\n",
    "\n",
    "$$ \\bar{X} = \\frac{1}{N} \\sum_{i=1}^{N} X_i, X \\sim N(\\mu, \\sigma^2)$$\n",
    "$$ \\bar{X} \\sim N(\\mu, \\frac{\\sigma^2}{N})$$\n",
    "\n",
    "$$ 95 \\% CI = [\\bar{X} - 1.96\\frac{s}{\\sqrt{x}}, \\bar{X} + 1.96\\frac{s}{\\sqrt{x}}] $$\n",
    "\n",
    "\n",
    "**Wilson Interval (more accurate approximation for probabilities CI)**\n",
    "\n",
    "$$ \\frac{\\hat{p}+\\frac{z^2}{2N}}{1+\\frac{z^2}{N}} \\pm \\frac{z}{1+\\frac{z^2}{N}}\\sqrt{\\frac{\\hat{p}(1-\\hat{p})}{N} + \\frac{z^2}{4N^2}}$$\n",
    "\n",
    "* In general, it's more widely accepted to sort by lower bound of the confidence interval instead of the upper bound.\n",
    "* Higher # of raters -> smaller CI -> higher lower bound\n",
    "\n",
    "\n",
    "**Smoothing (dampening)**\n",
    "\n",
    "$$ r = \\frac{\\sum_{i=1}^{N} X_i + \\lambda \\mu_0}{N+\\lambda}$$\n",
    "\n",
    "* If N is very small or even 0, we need a way to stabalize the calculation. We use the technique called **smoothing**.\n",
    "* We can make $\\mu_0$ the global average, or just some middle value like 3.\n",
    "    * Say we have 1000 4 start ratings, with $\\mu_0$ = 3 and $\\lambda = 1$, then the smoothing score will be 3.999.\n",
    "    * 5 4 start ratings -> score = 3.83\n",
    "    * 1 4 start ratings -> score = 3.5\n",
    "    \n",
    "\n",
    "**Explore-Exploit Dilemma**\n",
    "$$\\hat{p} = p(win) = \\frac{\\# wins}{\\# total}$$\n",
    "\n",
    "* Explore and Exploit are inherently at odds with each other, and is one of the key issue in recommender system.\n",
    "* When you collect too few data (more exploit), you confidence interval can be fat.\n",
    "* When you collect lots of data (more explore), you lose the change to get optimal results.\n",
    "\n",
    "**Bayesian Solution to Explore-Exploit Dilemma**\n",
    "\n",
    "$$ \\alpha' = \\alpha + \\sum_{i+1}^N X_i, \\beta' = \\beta + N - \\sum_{i+1}^N X_i$$\n",
    "\n",
    "\n",
    "Within each step, \n",
    "1. $ \\pi \\sim Beta(1,1)$\n",
    "2. Sample $x_1$\n",
    "3. $ \\pi \\sim Beta(1+ x_1, 1 + 1 - x_1)$\n",
    "4. Sample $x_2$\n",
    "5. $ \\pi \\sim Beta(1+ x_1 + x_2, 1 + 2 - x_1 - x_2) $\n",
    "6. etc... "
   ]
  },
  {
   "cell_type": "code",
   "execution_count": null,
   "id": "7ac769aa",
   "metadata": {},
   "outputs": [],
   "source": []
  }
 ],
 "metadata": {
  "kernelspec": {
   "display_name": "py39",
   "language": "python",
   "name": "py39"
  },
  "language_info": {
   "codemirror_mode": {
    "name": "ipython",
    "version": 3
   },
   "file_extension": ".py",
   "mimetype": "text/x-python",
   "name": "python",
   "nbconvert_exporter": "python",
   "pygments_lexer": "ipython3",
   "version": "3.7.7"
  }
 },
 "nbformat": 4,
 "nbformat_minor": 5
}
