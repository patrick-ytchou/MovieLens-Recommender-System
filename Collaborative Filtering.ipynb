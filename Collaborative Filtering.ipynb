{
 "cells": [
  {
   "cell_type": "markdown",
   "id": "da4107ed",
   "metadata": {},
   "source": [
    "## Goal for Collaborative Filtering\n",
    "\n",
    "$$s(i,j) = \\hat{r}(i,j) $$\n",
    "\n",
    "meaning that to guess what user $i$ might rate item $j$. \n",
    "\n",
    "\n",
    "Notes\n",
    "1. We want to predict a real number, so objective function is MSE.\n",
    "2. We don't care about the absolute rating; instead, we care more about how much it deviates from the average. Therefore, a user's predicted rating is its own average + its predicted deviation."
   ]
  },
  {
   "cell_type": "code",
   "execution_count": null,
   "id": "4bd58d7d",
   "metadata": {},
   "outputs": [],
   "source": []
  }
 ],
 "metadata": {
  "kernelspec": {
   "display_name": "py39",
   "language": "python",
   "name": "py39"
  },
  "language_info": {
   "codemirror_mode": {
    "name": "ipython",
    "version": 3
   },
   "file_extension": ".py",
   "mimetype": "text/x-python",
   "name": "python",
   "nbconvert_exporter": "python",
   "pygments_lexer": "ipython3",
   "version": "3.7.7"
  }
 },
 "nbformat": 4,
 "nbformat_minor": 5
}
